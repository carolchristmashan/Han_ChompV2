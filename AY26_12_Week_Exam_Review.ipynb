{
  "nbformat": 4,
  "nbformat_minor": 0,
  "metadata": {
    "colab": {
      "provenance": [],
      "include_colab_link": true
    },
    "kernelspec": {
      "name": "python3",
      "display_name": "Python 3"
    },
    "language_info": {
      "name": "python"
    }
  },
  "cells": [
    {
      "cell_type": "markdown",
      "metadata": {
        "id": "view-in-github",
        "colab_type": "text"
      },
      "source": [
        "<a href=\"https://colab.research.google.com/github/carolchristmashan/Han_ChompV2/blob/main/AY26_12_Week_Exam_Review.ipynb\" target=\"_parent\"><img src=\"https://colab.research.google.com/assets/colab-badge.svg\" alt=\"Open In Colab\"/></a>"
      ]
    },
    {
      "cell_type": "code",
      "execution_count": null,
      "metadata": {
        "id": "ceQx0FHOjYde"
      },
      "outputs": [],
      "source": [
        "salary_dict = {\n",
        "    '1/C': 550,\n",
        "    '2/C': 450,\n",
        "    '3/C': 350,\n",
        "    '4/C': 250\n",
        "}"
      ]
    },
    {
      "cell_type": "code",
      "source": [
        "# loop over an add up all payment values for 4 years here\n",
        "total = 0\n",
        "for k,v in salary_dict.items():\n",
        "  total += 12 * v\n",
        "\n",
        "print(f\"Your total earnings at USNA: ${total}\")"
      ],
      "metadata": {
        "id": "IDs5LpOWuzd7",
        "colab": {
          "base_uri": "https://localhost:8080/"
        },
        "outputId": "4a828493-0dbf-4565-dac8-b0d2d4dcc207"
      },
      "execution_count": null,
      "outputs": [
        {
          "output_type": "stream",
          "name": "stdout",
          "text": [
            "Your total earnings at USNA: $19200\n"
          ]
        }
      ]
    },
    {
      "cell_type": "code",
      "source": [
        "# Create a class called MidPay.\n",
        "# Attributes should be: name, paygrade, salary_dict, salary_paid (should default to empty list)\n",
        "# Methods should be(make_payment), get_annual_salary(return & prints total of last 12 payments), and promote (bump up in rank)\n",
        "\n",
        "class MidPay():\n",
        "  def __init__(self, name, paygrade='4/C', salary_paid = []):\n",
        "    self.name = name\n",
        "    self.paygrade = paygrade\n",
        "    self.salary_paid = salary_paid\n",
        "    self.salary_dict = salary_dict = {\n",
        "                                        '1/C': 550,\n",
        "                                        '2/C': 450,\n",
        "                                        '3/C': 350,\n",
        "                                        '4/C': 250\n",
        "                                    }\n",
        "  def make_payment(self):\n",
        "    # adds in a payment to your salary_paid list\n",
        "    self.salary_paid.append(self.salary_dict[self.paygrade])\n",
        "    print(\"You got paid!\")\n",
        "\n",
        "  def get_annual_salary(self):\n",
        "    # returns total of last 12 payments\n",
        "    total = sum(self.salary_paid[-12:])\n",
        "    return total\n",
        "\n",
        "  def promote(self, new_paygrade):\n",
        "    # increase paygrade to the next level\n",
        "    self.paygrade = new_paygrade"
      ],
      "metadata": {
        "id": "jiAJsbz9p_np"
      },
      "execution_count": null,
      "outputs": []
    },
    {
      "cell_type": "code",
      "source": [
        "# make a 3/C instance of MidPay\n",
        "new_mid = MidPay('David', '3/C')"
      ],
      "metadata": {
        "id": "XNdXBiKFu28Z"
      },
      "execution_count": null,
      "outputs": []
    },
    {
      "cell_type": "code",
      "source": [
        "# call Pay me 6 times promote me, then pay me 8 times, and get annual salary for you taxes!\n",
        "for i in range(6):\n",
        "  new_mid.make_payment()\n",
        "\n",
        "new_mid.promote('2/C')\n",
        "\n",
        "for i in range(6):\n",
        "  new_mid.make_payment()"
      ],
      "metadata": {
        "id": "jUyWnwUiu26Y",
        "colab": {
          "base_uri": "https://localhost:8080/"
        },
        "outputId": "470fd5de-3f6d-430e-d439-e632b66e9b6c"
      },
      "execution_count": null,
      "outputs": [
        {
          "output_type": "stream",
          "name": "stdout",
          "text": [
            "You got paid!\n",
            "You got paid!\n",
            "You got paid!\n",
            "You got paid!\n",
            "You got paid!\n",
            "You got paid!\n",
            "You got paid!\n",
            "You got paid!\n",
            "You got paid!\n",
            "You got paid!\n",
            "You got paid!\n",
            "You got paid!\n"
          ]
        }
      ]
    },
    {
      "cell_type": "code",
      "source": [
        "# get annual salary\n",
        "total_taxable_salary = new_mid.get_annual_salary()\n",
        "print(total_taxable_salary)"
      ],
      "metadata": {
        "id": "lG4rWJdtu24O",
        "colab": {
          "base_uri": "https://localhost:8080/"
        },
        "outputId": "837c3f17-b9de-4e09-d90a-2788d8670c93"
      },
      "execution_count": null,
      "outputs": [
        {
          "output_type": "stream",
          "name": "stdout",
          "text": [
            "4800\n"
          ]
        }
      ]
    },
    {
      "cell_type": "code",
      "source": [
        "# promote"
      ],
      "metadata": {
        "id": "ybN_eYmvu219"
      },
      "execution_count": null,
      "outputs": []
    },
    {
      "cell_type": "code",
      "source": [
        "# check paygrade\n",
        "\n"
      ],
      "metadata": {
        "id": "WumOQQR2u2z5"
      },
      "execution_count": null,
      "outputs": []
    },
    {
      "cell_type": "code",
      "source": [],
      "metadata": {
        "id": "1CBRZdfQu2xh"
      },
      "execution_count": null,
      "outputs": []
    },
    {
      "cell_type": "code",
      "source": [
        "# get the annual salary\n"
      ],
      "metadata": {
        "id": "DN7cLPP4u2vH"
      },
      "execution_count": null,
      "outputs": []
    },
    {
      "cell_type": "code",
      "source": [],
      "metadata": {
        "id": "av3C20T8u2sU"
      },
      "execution_count": null,
      "outputs": []
    },
    {
      "cell_type": "code",
      "source": [],
      "metadata": {
        "id": "cLqQYaN7u2p_"
      },
      "execution_count": null,
      "outputs": []
    },
    {
      "cell_type": "code",
      "source": [
        "# make a 3/C instance of MidPay\n",
        "# call Pay me 6 times promote me 8 times, and get annual salary for you taxes!"
      ],
      "metadata": {
        "id": "r0Q0Oy6npkXl"
      },
      "execution_count": null,
      "outputs": []
    },
    {
      "cell_type": "code",
      "source": [],
      "metadata": {
        "id": "UulZTW6mslYY"
      },
      "execution_count": null,
      "outputs": []
    },
    {
      "cell_type": "code",
      "source": [
        "weather_data ={\n",
        "    'New York': {\n",
        "        'temperature_C': [20.5, 21.2, 22.0, 21.8, 19.7], #temperature over the past 5 hours\n",
        "        'humidity_percent': 65.0,\n",
        "        'precipitation_mm': 0.0\n",
        "    },\n",
        "    'Los Angeles': {\n",
        "        'temperature_C': [25.0, 26.5, 26.8, 27.2, 25.9],\n",
        "        'humidity_percent': 70.5,\n",
        "        'precipitation_mm': 0.5\n",
        "    },\n",
        "    'Chicago': {\n",
        "        'temperature_C': [18.2, 17.8, 19.0, 18.5, 20.1],\n",
        "        'humidity_percent': 55.8,\n",
        "        'precipitation_mm': 0.0\n",
        "    },\n",
        "    'Miami': {\n",
        "        'temperature_C': [30.8, 31.5, 31.2, 32.0, 30.9],\n",
        "        'humidity_percent': 75.2,\n",
        "        'precipitation_mm': 1.2\n",
        "    },\n",
        "    # ... Add more cities and data here ...\n",
        "    'London': {\n",
        "        'temperature_C': [15.3, 14.8, 16.0, 15.7, 14.5],\n",
        "        'humidity_percent': 80.1,\n",
        "        'precipitation_mm': 3.5\n",
        "    }\n",
        "}"
      ],
      "metadata": {
        "id": "MWXAZ_dArSbR"
      },
      "execution_count": null,
      "outputs": []
    },
    {
      "cell_type": "code",
      "source": [
        "# get the 1st recorded temp for New York\n",
        "weather_data['New York']['temperature_C'][0]"
      ],
      "metadata": {
        "id": "o2Lon3HrruMK",
        "colab": {
          "base_uri": "https://localhost:8080/"
        },
        "outputId": "1ef611dd-813d-4cad-dd69-185628982d50"
      },
      "execution_count": null,
      "outputs": [
        {
          "output_type": "execute_result",
          "data": {
            "text/plain": [
              "20.5"
            ]
          },
          "metadata": {},
          "execution_count": 89
        }
      ]
    },
    {
      "cell_type": "code",
      "source": [
        "# make a function that just returns the avg temp for  a city (city name is the argument)\n",
        "def get_avg_temp(weather_data, city='New York'):\n",
        "  # get this city's temperature list\n",
        "  temps = weather_data[city]['temperature_C']\n",
        "  # get the average\n",
        "  avg_temp = sum(temps)/len(temps)\n",
        "  return avg_temp\n"
      ],
      "metadata": {
        "id": "wfcYtvVcsHHi"
      },
      "execution_count": null,
      "outputs": []
    },
    {
      "cell_type": "code",
      "source": [
        "# call the function\n",
        "miamis_avg = get_avg_temp(weather_data, 'Miami')\n",
        "print(miamis_avg)"
      ],
      "metadata": {
        "id": "Pv_yxwj-6fYU",
        "colab": {
          "base_uri": "https://localhost:8080/"
        },
        "outputId": "2da2fc7f-f741-4518-8a75-7260b9ec9d1b"
      },
      "execution_count": null,
      "outputs": [
        {
          "output_type": "stream",
          "name": "stdout",
          "text": [
            "31.28\n"
          ]
        }
      ]
    },
    {
      "cell_type": "code",
      "source": [
        "# Python Multiple Choice Questions on For Loops\n",
        "\n",
        "# -----------------------------------------------\n",
        "# Question 1: For loop with range()\n",
        "# -----------------------------------------------\n",
        "# What will be the output of the following code?\n",
        "for i in range(3):\n",
        "    print(i)\n",
        "# A) 1 2 3\n",
        "# B) 0 1 2\n",
        "# C) 0 1 2 3\n",
        "# D) 1 2\n",
        "# Correct Answer:\n"
      ],
      "metadata": {
        "id": "XK0Ktd8w6jf9",
        "colab": {
          "base_uri": "https://localhost:8080/"
        },
        "outputId": "9640ceba-3866-4797-afda-589e9e9188f8"
      },
      "execution_count": null,
      "outputs": [
        {
          "output_type": "stream",
          "name": "stdout",
          "text": [
            "0\n",
            "1\n",
            "2\n"
          ]
        }
      ]
    },
    {
      "cell_type": "code",
      "source": [
        "\n",
        "# -----------------------------------------------\n",
        "# Question 2: For loop with range() and step\n",
        "# -----------------------------------------------\n",
        "# What is printed by the following code?\n",
        "for i in range(2, 10, 3):\n",
        "    print(i, end=\" \")\n",
        "# A) 2 5 8\n",
        "# B) 2 4 6 8\n",
        "# C) 2 5 7 9\n",
        "# D) 2 6 9\n",
        "# Correct Answer:\n"
      ],
      "metadata": {
        "id": "KLhXIUcVaOkS",
        "colab": {
          "base_uri": "https://localhost:8080/"
        },
        "outputId": "d34db4f4-80e5-4565-89fe-ff58d44b33d0"
      },
      "execution_count": null,
      "outputs": [
        {
          "output_type": "stream",
          "name": "stdout",
          "text": [
            "2 5 8 "
          ]
        }
      ]
    },
    {
      "cell_type": "code",
      "source": [
        "\n",
        "# -----------------------------------------------\n",
        "# Question 3: For loop with list iteration\n",
        "# -----------------------------------------------\n",
        "# What will be the output?\n",
        "fruits = [\"apple\", \"banana\", \"cherry\"]\n",
        "for fruit in fruits:\n",
        "    print(fruit)\n",
        "# A) apple banana cherry\n",
        "# B) [\"apple\", \"banana\", \"cherry\"]\n",
        "# C) fruit\n",
        "# D) Error\n",
        "# Correct Answer:\n"
      ],
      "metadata": {
        "id": "9UjkV6VAaPPx",
        "colab": {
          "base_uri": "https://localhost:8080/"
        },
        "outputId": "d6e84207-2a49-4448-bf92-62e6e00bd122"
      },
      "execution_count": null,
      "outputs": [
        {
          "output_type": "stream",
          "name": "stdout",
          "text": [
            "apple\n",
            "banana\n",
            "cherry\n"
          ]
        }
      ]
    },
    {
      "cell_type": "code",
      "source": [
        "\n",
        "# -----------------------------------------------\n",
        "# Question 4: For loop with list index\n",
        "# -----------------------------------------------\n",
        "# What will the following print?\n",
        "colors = [\"red\", \"green\", \"blue\"]\n",
        "for i in range(len(colors)):\n",
        "    print(i, colors[i])\n",
        "# A) red green blue\n",
        "# B) 1 red, 2 green, 3 blue\n",
        "# C) 0 red, 1 green, 2 blue\n",
        "# D) Error\n",
        "# Correct Answer:\n"
      ],
      "metadata": {
        "id": "sd8vKNu_aM5w",
        "colab": {
          "base_uri": "https://localhost:8080/"
        },
        "outputId": "acbe07aa-5b80-4a70-e2f5-0475bdd6d5e2"
      },
      "execution_count": null,
      "outputs": [
        {
          "output_type": "stream",
          "name": "stdout",
          "text": [
            "0 red\n",
            "1 green\n",
            "2 blue\n"
          ]
        }
      ]
    },
    {
      "cell_type": "code",
      "source": [
        "\n",
        "# -----------------------------------------------\n",
        "# Question 5: Nested for loop with range\n",
        "# -----------------------------------------------\n",
        "# What is the output?\n",
        "for i in range(2):\n",
        "    print(f\"i is {i}\")\n",
        "    for j in range(2):\n",
        "        print(f\"j is {j}\")\n",
        "        print(i, j)\n",
        "# A) (0,0) (1,1)\n",
        "# B) 0 1\n",
        "# C) 0 0, 0 1, 1 0, 1 1\n",
        "# D) Error\n",
        "# Correct Answer:\n"
      ],
      "metadata": {
        "id": "SGHMfGYHaQFt",
        "colab": {
          "base_uri": "https://localhost:8080/"
        },
        "outputId": "94d1dbd3-c0ee-4cab-d62c-b867b6f1a4cb"
      },
      "execution_count": null,
      "outputs": [
        {
          "output_type": "stream",
          "name": "stdout",
          "text": [
            "i is 0\n",
            "j is 0\n",
            "0 0\n",
            "j is 1\n",
            "0 1\n",
            "i is 1\n",
            "j is 0\n",
            "1 0\n",
            "j is 1\n",
            "1 1\n"
          ]
        }
      ]
    },
    {
      "cell_type": "code",
      "source": [
        "\n",
        "# -----------------------------------------------\n",
        "# Question 6: Nested for loop with list of lists\n",
        "# -----------------------------------------------\n",
        "# What is printed?\n",
        "matrix = [[1, 2], [3, 4], [5, 6]]\n",
        "for row in matrix:\n",
        "    for num in row:\n",
        "        print(num, end=\" \")\n",
        "# A) 1 2 3 4 5 6\n",
        "# B) [1,2] [3,4] [5,6]\n",
        "# C) 1 3 5 2 4 6\n",
        "# D) Error\n",
        "# Correct Answer:\n"
      ],
      "metadata": {
        "id": "0QCo2L-0aSfo",
        "colab": {
          "base_uri": "https://localhost:8080/"
        },
        "outputId": "b6831a07-5d41-4b46-9183-7a23896a38c7"
      },
      "execution_count": null,
      "outputs": [
        {
          "output_type": "stream",
          "name": "stdout",
          "text": [
            "1 2 3 4 5 6 "
          ]
        }
      ]
    },
    {
      "cell_type": "code",
      "source": [
        "\n",
        "# -----------------------------------------------\n",
        "# Question 7: For loop with dictionary keys\n",
        "# -----------------------------------------------\n",
        "# What does this code print?\n",
        "student = {\"name\": \"Alice\", \"age\": 20, \"grade\": \"A\"}\n",
        "for key in student:\n",
        "    print(key)\n",
        "# A) name age grade\n",
        "# B) Alice 20 A\n",
        "# C) ('name', 'Alice') ('age', 20) ('grade', 'A')\n",
        "# D) Error\n",
        "# Correct Answer:\n"
      ],
      "metadata": {
        "id": "Zk2rdMq6aZef",
        "colab": {
          "base_uri": "https://localhost:8080/"
        },
        "outputId": "a6c12036-08a9-49a2-9a49-4cac14eb5f63"
      },
      "execution_count": null,
      "outputs": [
        {
          "output_type": "stream",
          "name": "stdout",
          "text": [
            "name\n",
            "age\n",
            "grade\n"
          ]
        }
      ]
    },
    {
      "cell_type": "code",
      "source": [
        "\n",
        "# -----------------------------------------------\n",
        "# Question 8: For loop with dictionary values\n",
        "# -----------------------------------------------\n",
        "# What is printed?\n",
        "prices = {\"apple\": 1.2, \"banana\": 0.8, \"cherry\": 2.5}\n",
        "for value in prices.values():\n",
        "    print(value)\n",
        "# A) apple banana cherry\n",
        "# B) 1.2 0.8 2.5\n",
        "# C) (\"apple\", 1.2), (\"banana\", 0.8), (\"cherry\", 2.5)\n",
        "# D) Error\n",
        "# Correct Answer:\n"
      ],
      "metadata": {
        "id": "T4Qym-rmaTje",
        "colab": {
          "base_uri": "https://localhost:8080/"
        },
        "outputId": "1135786d-8e87-4463-fbb8-afb1c43c606d"
      },
      "execution_count": null,
      "outputs": [
        {
          "output_type": "stream",
          "name": "stdout",
          "text": [
            "1.2\n",
            "0.8\n",
            "2.5\n"
          ]
        }
      ]
    },
    {
      "cell_type": "code",
      "source": [
        "\n",
        "# -----------------------------------------------\n",
        "# Question 9: For loop with dictionary items\n",
        "# -----------------------------------------------\n",
        "# What does the following print?\n",
        "capitals = {\"France\": \"Paris\", \"Italy\": \"Rome\", \"Spain\": \"Madrid\"}\n",
        "for country, city in capitals.items():\n",
        "    print(country, \"->\", city)\n",
        "# A) France->Paris Italy->Rome Spain->Madrid\n",
        "# B) (\"France\", \"Paris\") (\"Italy\", \"Rome\") (\"Spain\", \"Madrid\")\n",
        "# C) country city\n",
        "# D) Error\n",
        "# Correct Answer:\n"
      ],
      "metadata": {
        "id": "TH82v9uRaUTE",
        "colab": {
          "base_uri": "https://localhost:8080/"
        },
        "outputId": "b6d529f8-7d89-4a0a-e4ca-006c371b97dd"
      },
      "execution_count": null,
      "outputs": [
        {
          "output_type": "stream",
          "name": "stdout",
          "text": [
            "France -> Paris\n",
            "Italy -> Rome\n",
            "Spain -> Madrid\n"
          ]
        }
      ]
    },
    {
      "cell_type": "code",
      "source": [
        "\n",
        "# -----------------------------------------------\n",
        "# Question 10: Combining lists and dictionaries\n",
        "# -----------------------------------------------\n",
        "# What will be the output?\n",
        "students = [{\"name\": \"Tom\", \"score\": 90}, {\"name\": \"Jerry\", \"score\": 85}]\n",
        "for student in students:\n",
        "    print(student[\"name\"], student[\"score\"])\n",
        "# A) name score\n",
        "# B) Tom 90 Jerry 85\n",
        "# C) {'name': 'Tom', 'score': 90}, {'name': 'Jerry', 'score': 85}\n",
        "# D) Error\n",
        "# Correct Answer:"
      ],
      "metadata": {
        "id": "s2e7JiYPaU5t",
        "colab": {
          "base_uri": "https://localhost:8080/"
        },
        "outputId": "6e17be46-44df-40be-8bcc-1c2374ac8084"
      },
      "execution_count": null,
      "outputs": [
        {
          "output_type": "stream",
          "name": "stdout",
          "text": [
            "Tom 90\n",
            "Jerry 85\n"
          ]
        }
      ]
    },
    {
      "cell_type": "code",
      "source": [],
      "metadata": {
        "id": "9Wm7pz0b6lZd"
      },
      "execution_count": null,
      "outputs": []
    },
    {
      "cell_type": "markdown",
      "source": [
        "![image.png](data:image/png;base64,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)"
      ],
      "metadata": {
        "id": "yA0YAPHva1Bx"
      }
    },
    {
      "cell_type": "code",
      "source": [
        "# What is the Freq? Include units\n",
        "T = 0.001667\n",
        "f = 1/T # Hz\n",
        "f"
      ],
      "metadata": {
        "id": "b67RDI1E6lWk",
        "colab": {
          "base_uri": "https://localhost:8080/"
        },
        "outputId": "815dc9a9-992c-4019-9adc-f30bbf1c427b"
      },
      "execution_count": null,
      "outputs": [
        {
          "output_type": "execute_result",
          "data": {
            "text/plain": [
              "599.880023995201"
            ]
          },
          "metadata": {},
          "execution_count": 96
        }
      ]
    },
    {
      "cell_type": "code",
      "source": [
        "# what is the DC? Make sure it's a value between 0 and 1\n",
        "dc = 0.000667/ T\n",
        "dc"
      ],
      "metadata": {
        "id": "-O3N9l5N6lUS",
        "colab": {
          "base_uri": "https://localhost:8080/"
        },
        "outputId": "895bb1e7-d546-4a6a-9c5b-8a3a190605cb"
      },
      "execution_count": null,
      "outputs": [
        {
          "output_type": "execute_result",
          "data": {
            "text/plain": [
              "0.400119976004799"
            ]
          },
          "metadata": {},
          "execution_count": 97
        }
      ]
    },
    {
      "cell_type": "code",
      "source": [
        "# write pico code to generate the above signal on GP20\n",
        "\n",
        "from machine import Pin, PWM\n",
        "\n",
        "led_pin = PWM(Pin(20))\n",
        "\n",
        "led_pin.freq = f\n",
        "\n",
        "led_pin.duty_u16(int(dc * 65535))\n"
      ],
      "metadata": {
        "id": "VNAwyL5f6lSL"
      },
      "execution_count": null,
      "outputs": []
    },
    {
      "cell_type": "code",
      "source": [
        "# Python Multiple Choice Questions on Functions\n",
        "\n",
        "# -----------------------------------------------\n",
        "# Question 1: Basic Function Definition\n",
        "# -----------------------------------------------\n",
        "# What is the correct way to define a function in Python?\n",
        "# A) function myFunc():\n",
        "# B) def myFunc[]:\n",
        "# C) def myFunc():\n",
        "# D) func myFunc():\n",
        "# Correct Answer:\n",
        "\n"
      ],
      "metadata": {
        "id": "KTpq-IUF6lP0"
      },
      "execution_count": null,
      "outputs": []
    },
    {
      "cell_type": "code",
      "source": [
        "\n",
        "\n",
        "# -----------------------------------------------\n",
        "# Question 2: Function Return Value\n",
        "# -----------------------------------------------\n",
        "# What will be the output of the following code?\n",
        "def add(a, b):\n",
        "    return a + b\n",
        "result = add(3, 4)\n",
        "print(result)\n",
        "# A) 3\n",
        "# B) 4\n",
        "# C) 7\n",
        "# D) Error\n",
        "# Correct Answer:\n"
      ],
      "metadata": {
        "id": "dUIIkkGIbjkm",
        "colab": {
          "base_uri": "https://localhost:8080/"
        },
        "outputId": "f986f0bd-4536-4439-aa59-98a77bdb02a7"
      },
      "execution_count": null,
      "outputs": [
        {
          "output_type": "stream",
          "name": "stdout",
          "text": [
            "7\n"
          ]
        }
      ]
    },
    {
      "cell_type": "code",
      "source": [
        "\n",
        "# -----------------------------------------------\n",
        "# Question 3: Function with Default Parameter\n",
        "# -----------------------------------------------\n",
        "# What is printed by this code?\n",
        "def greet(name=\"Guest\"):\n",
        "    print(\"Hello,\", name)\n",
        "greet()\n",
        "# A) Hello, Guest\n",
        "# B) Hello,\n",
        "# C) Error\n",
        "# D) Guest\n",
        "# Correct Answer:\n"
      ],
      "metadata": {
        "id": "3WgP17gGbpyJ",
        "colab": {
          "base_uri": "https://localhost:8080/"
        },
        "outputId": "a1e0fca7-c2b0-4dd3-f7e3-bbb99f278e1d"
      },
      "execution_count": null,
      "outputs": [
        {
          "output_type": "stream",
          "name": "stdout",
          "text": [
            "Hello, Guest\n"
          ]
        }
      ]
    },
    {
      "cell_type": "code",
      "source": [
        "\n",
        "# -----------------------------------------------\n",
        "# Question 4: Multiple Parameters\n",
        "# -----------------------------------------------\n",
        "# What is the output?\n",
        "def multiply(x, y):\n",
        "    return x * y\n",
        "print(multiply(2, 5))\n",
        "# A) 7\n",
        "# B) 10\n",
        "# C) 25\n",
        "# D) Error\n",
        "# Correct Answer:\n"
      ],
      "metadata": {
        "id": "ao0XLl9gbpFu",
        "colab": {
          "base_uri": "https://localhost:8080/"
        },
        "outputId": "1c6b7282-b9bb-43f6-8b22-1241ac6cb0ee"
      },
      "execution_count": null,
      "outputs": [
        {
          "output_type": "stream",
          "name": "stdout",
          "text": [
            "10\n"
          ]
        }
      ]
    },
    {
      "cell_type": "code",
      "source": [
        "\n",
        "# -----------------------------------------------\n",
        "# Question 5: Keyword Arguments\n",
        "# -----------------------------------------------\n",
        "# What will be printed?\n",
        "def divide(a, b):\n",
        "    return a / b\n",
        "print(divide(b=2, a=10))\n",
        "# A) 0.2\n",
        "# B) 5.0\n",
        "# C) Error\n",
        "# D) 10\n",
        "# Correct Answer:\n"
      ],
      "metadata": {
        "id": "wm5TncZWboSR",
        "colab": {
          "base_uri": "https://localhost:8080/"
        },
        "outputId": "5c9cc8fa-86a7-4c8b-cdd8-2314d12a8ce9"
      },
      "execution_count": null,
      "outputs": [
        {
          "output_type": "stream",
          "name": "stdout",
          "text": [
            "5.0\n"
          ]
        }
      ]
    },
    {
      "cell_type": "code",
      "source": [
        "\n",
        "# -----------------------------------------------\n",
        "# Question 6: Returning Multiple Values\n",
        "# -----------------------------------------------\n",
        "# What is printed by the following?\n",
        "def calc(x, y):\n",
        "    return x + y, x - y\n",
        "result = calc(5, 3)\n",
        "print(result)\n",
        "# A) 8, 2\n",
        "# B) (8, 2)\n",
        "# C) [8, 2]\n",
        "# D) Error\n",
        "# Correct Answer:\n"
      ],
      "metadata": {
        "id": "iswfabYgbnfS",
        "colab": {
          "base_uri": "https://localhost:8080/"
        },
        "outputId": "e9ed71f4-f5b8-4e00-b127-d0170486181a"
      },
      "execution_count": null,
      "outputs": [
        {
          "output_type": "stream",
          "name": "stdout",
          "text": [
            "(8, 2)\n"
          ]
        }
      ]
    },
    {
      "cell_type": "code",
      "source": [
        "\n",
        "# -----------------------------------------------\n",
        "# Question 7: Nested Function\n",
        "# -----------------------------------------------\n",
        "# What will this code output?\n",
        "def outer():\n",
        "    def inner():\n",
        "        return \"Inside\"\n",
        "    return inner()\n",
        "print(outer())\n",
        "# A) Inside\n",
        "# B) inner\n",
        "# C) outer\n",
        "# D) Error\n",
        "# Correct Answer:\n"
      ],
      "metadata": {
        "id": "9Noi_C3bbmtU",
        "colab": {
          "base_uri": "https://localhost:8080/"
        },
        "outputId": "367b24b0-ba9e-47dd-e191-80b4ebf29820"
      },
      "execution_count": null,
      "outputs": [
        {
          "output_type": "stream",
          "name": "stdout",
          "text": [
            "Inside\n"
          ]
        }
      ]
    },
    {
      "cell_type": "code",
      "source": [
        "\n",
        "# -----------------------------------------------\n",
        "# Question 8: Function Without Return\n",
        "# -----------------------------------------------\n",
        "# What does this print?\n",
        "def show():\n",
        "    print(\"Showing\")\n",
        "result = show()\n",
        "print(result)\n",
        "# A) Showing None\n",
        "# B) Showing\n",
        "# C) None\n",
        "# D) Error\n",
        "# Correct Answer:\n"
      ],
      "metadata": {
        "id": "QyWkmhtEbl3d",
        "colab": {
          "base_uri": "https://localhost:8080/"
        },
        "outputId": "d2a802a9-0ecb-4d76-dbfc-4bc0fcb8c5c0"
      },
      "execution_count": null,
      "outputs": [
        {
          "output_type": "stream",
          "name": "stdout",
          "text": [
            "Showing\n",
            "None\n"
          ]
        }
      ]
    },
    {
      "cell_type": "code",
      "source": [
        "\n",
        "# -----------------------------------------------\n",
        "# Question 9: Return vs No Return\n",
        "# -----------------------------------------------\n",
        "# What is printed here?\n",
        "def f1():\n",
        "    return 5\n",
        "def f2():\n",
        "    x = 5\n",
        "print(f1(), f2())\n",
        "# A) 5 5\n",
        "# B) 5 None\n",
        "# C) None 5\n",
        "# D) Error\n",
        "# Correct Answer:\n"
      ],
      "metadata": {
        "id": "GI4OyV9BblMb",
        "colab": {
          "base_uri": "https://localhost:8080/"
        },
        "outputId": "e8d25c15-1b08-4d90-c75a-422495b596b5"
      },
      "execution_count": null,
      "outputs": [
        {
          "output_type": "stream",
          "name": "stdout",
          "text": [
            "5 None\n"
          ]
        }
      ]
    },
    {
      "cell_type": "code",
      "source": [
        "\n",
        "# -----------------------------------------------\n",
        "# Question 10: Function Resolution and Execution\n",
        "# -----------------------------------------------\n",
        "# What is printed by the following code?\n",
        "def get_value():\n",
        "    return 10\n",
        "def printer():\n",
        "    print(get_value())\n",
        "result = printer()\n",
        "print(result)\n",
        "# A) 10 10\n",
        "# B) 10 None\n",
        "# C) None 10\n",
        "# D) Error\n",
        "# Correct Answer:"
      ],
      "metadata": {
        "id": "dbgFRbQibkaC",
        "colab": {
          "base_uri": "https://localhost:8080/"
        },
        "outputId": "7ea6c580-9d49-420e-d759-970df6848df6"
      },
      "execution_count": null,
      "outputs": [
        {
          "output_type": "stream",
          "name": "stdout",
          "text": [
            "10\n",
            "None\n"
          ]
        }
      ]
    },
    {
      "cell_type": "code",
      "source": [],
      "metadata": {
        "id": "qEMtcpQ86lNe"
      },
      "execution_count": null,
      "outputs": []
    },
    {
      "cell_type": "code",
      "source": [],
      "metadata": {
        "id": "rKdTNmve6lLK"
      },
      "execution_count": null,
      "outputs": []
    },
    {
      "cell_type": "code",
      "source": [],
      "metadata": {
        "id": "hVDrYy216lI1"
      },
      "execution_count": null,
      "outputs": []
    },
    {
      "cell_type": "code",
      "source": [],
      "metadata": {
        "id": "LEXWRSqy6lE-"
      },
      "execution_count": null,
      "outputs": []
    },
    {
      "cell_type": "code",
      "source": [],
      "metadata": {
        "id": "0YgBMElJ6lCh"
      },
      "execution_count": null,
      "outputs": []
    },
    {
      "cell_type": "code",
      "source": [],
      "metadata": {
        "id": "9O1eec9R6k_-"
      },
      "execution_count": null,
      "outputs": []
    }
  ]
}